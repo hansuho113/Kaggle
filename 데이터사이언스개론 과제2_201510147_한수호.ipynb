{
 "cells": [
  {
   "cell_type": "markdown",
   "metadata": {},
   "source": [
    "# 데이터사이언스개론 (과제 2) _ 201510147 한수호"
   ]
  },
  {
   "cell_type": "markdown",
   "metadata": {},
   "source": [
    "# Library Import & Loading Data"
   ]
  },
  {
   "cell_type": "code",
   "execution_count": 180,
   "metadata": {},
   "outputs": [],
   "source": [
    "import pandas as pd\n",
    "import numpy as np\n",
    "import matplotlib.pyplot as plt\n",
    "%matplotlib inline\n",
    "import seaborn as sns\n",
    "import warnings\n",
    "warnings.filterwarnings('ignore')\n",
    "\n",
    "from sklearn.neighbors import KNeighborsClassifier\n",
    "from sklearn.tree import DecisionTreeClassifier\n",
    "from sklearn.model_selection import train_test_split\n",
    "from sklearn import metrics\n",
    "import eli5\n",
    "from eli5.sklearn import PermutationImportance\n",
    "from sklearn.model_selection import cross_val_score\n"
   ]
  },
  {
   "cell_type": "code",
   "execution_count": 2,
   "metadata": {},
   "outputs": [
    {
     "data": {
      "text/html": [
       "<div>\n",
       "<style scoped>\n",
       "    .dataframe tbody tr th:only-of-type {\n",
       "        vertical-align: middle;\n",
       "    }\n",
       "\n",
       "    .dataframe tbody tr th {\n",
       "        vertical-align: top;\n",
       "    }\n",
       "\n",
       "    .dataframe thead th {\n",
       "        text-align: right;\n",
       "    }\n",
       "</style>\n",
       "<table border=\"1\" class=\"dataframe\">\n",
       "  <thead>\n",
       "    <tr style=\"text-align: right;\">\n",
       "      <th></th>\n",
       "      <th>PassengerId</th>\n",
       "      <th>Survived</th>\n",
       "      <th>Pclass</th>\n",
       "      <th>Name</th>\n",
       "      <th>Sex</th>\n",
       "      <th>Age</th>\n",
       "      <th>SibSp</th>\n",
       "      <th>Parch</th>\n",
       "      <th>Ticket</th>\n",
       "      <th>Fare</th>\n",
       "      <th>Cabin</th>\n",
       "      <th>Embarked</th>\n",
       "    </tr>\n",
       "  </thead>\n",
       "  <tbody>\n",
       "    <tr>\n",
       "      <th>0</th>\n",
       "      <td>1</td>\n",
       "      <td>0</td>\n",
       "      <td>3</td>\n",
       "      <td>Braund, Mr. Owen Harris</td>\n",
       "      <td>male</td>\n",
       "      <td>22.0</td>\n",
       "      <td>1</td>\n",
       "      <td>0</td>\n",
       "      <td>A/5 21171</td>\n",
       "      <td>7.2500</td>\n",
       "      <td>NaN</td>\n",
       "      <td>S</td>\n",
       "    </tr>\n",
       "    <tr>\n",
       "      <th>1</th>\n",
       "      <td>2</td>\n",
       "      <td>1</td>\n",
       "      <td>1</td>\n",
       "      <td>Cumings, Mrs. John Bradley (Florence Briggs Th...</td>\n",
       "      <td>female</td>\n",
       "      <td>38.0</td>\n",
       "      <td>1</td>\n",
       "      <td>0</td>\n",
       "      <td>PC 17599</td>\n",
       "      <td>71.2833</td>\n",
       "      <td>C85</td>\n",
       "      <td>C</td>\n",
       "    </tr>\n",
       "    <tr>\n",
       "      <th>2</th>\n",
       "      <td>3</td>\n",
       "      <td>1</td>\n",
       "      <td>3</td>\n",
       "      <td>Heikkinen, Miss. Laina</td>\n",
       "      <td>female</td>\n",
       "      <td>26.0</td>\n",
       "      <td>0</td>\n",
       "      <td>0</td>\n",
       "      <td>STON/O2. 3101282</td>\n",
       "      <td>7.9250</td>\n",
       "      <td>NaN</td>\n",
       "      <td>S</td>\n",
       "    </tr>\n",
       "  </tbody>\n",
       "</table>\n",
       "</div>"
      ],
      "text/plain": [
       "   PassengerId  Survived  Pclass  \\\n",
       "0            1         0       3   \n",
       "1            2         1       1   \n",
       "2            3         1       3   \n",
       "\n",
       "                                                Name     Sex   Age  SibSp  \\\n",
       "0                            Braund, Mr. Owen Harris    male  22.0      1   \n",
       "1  Cumings, Mrs. John Bradley (Florence Briggs Th...  female  38.0      1   \n",
       "2                             Heikkinen, Miss. Laina  female  26.0      0   \n",
       "\n",
       "   Parch            Ticket     Fare Cabin Embarked  \n",
       "0      0         A/5 21171   7.2500   NaN        S  \n",
       "1      0          PC 17599  71.2833   C85        C  \n",
       "2      0  STON/O2. 3101282   7.9250   NaN        S  "
      ]
     },
     "execution_count": 2,
     "metadata": {},
     "output_type": "execute_result"
    }
   ],
   "source": [
    "train = pd.read_csv(\"C:\\\\Users\\\\Administrator\\\\Desktop\\\\titanic\\\\train.csv\")\n",
    "test = pd.read_csv(\"C:\\\\Users\\\\Administrator\\\\Desktop\\\\titanic\\\\test.csv\")\n",
    "\n",
    "train.head(3)"
   ]
  },
  {
   "cell_type": "markdown",
   "metadata": {},
   "source": [
    "# Dataset Check"
   ]
  },
  {
   "cell_type": "code",
   "execution_count": 3,
   "metadata": {},
   "outputs": [
    {
     "data": {
      "text/plain": [
       "Index(['PassengerId', 'Survived', 'Pclass', 'Name', 'Sex', 'Age', 'SibSp',\n",
       "       'Parch', 'Ticket', 'Fare', 'Cabin', 'Embarked'],\n",
       "      dtype='object')"
      ]
     },
     "execution_count": 3,
     "metadata": {},
     "output_type": "execute_result"
    }
   ],
   "source": [
    "train.columns"
   ]
  },
  {
   "cell_type": "markdown",
   "metadata": {},
   "source": [
    "- PassengerId : 승객 번호\n",
    "\n",
    "- Survived : 생존여부(1: 생존, 0 : 사망)\n",
    "\n",
    "- Pclass : 승선권 클래스(1 : 1st, 2 : 2nd ,3 : 3rd)\n",
    "\n",
    "- Name : 승객 이름\n",
    "\n",
    "- Sex : 승객 성별\n",
    "\n",
    "- Age : 승객 나이 \n",
    "\n",
    "- SibSp : 동반한 형제자매, 배우자 수\n",
    "\n",
    "- Patch : 동반한 부모, 자식 수\n",
    "\n",
    "- Ticket : 티켓의 고유 넘버\n",
    "\n",
    "- Fare 티켓의 요금\n",
    "\n",
    "- Cabin : 객실 번호\n",
    "\n",
    "- Embarked : 승선한 항구명(C : Cherbourg, Q : Queenstown, S : Southampton)\n",
    "\n"
   ]
  },
  {
   "cell_type": "code",
   "execution_count": 4,
   "metadata": {},
   "outputs": [
    {
     "name": "stdout",
     "output_type": "stream",
     "text": [
      "<class 'pandas.core.frame.DataFrame'>\n",
      "RangeIndex: 891 entries, 0 to 890\n",
      "Data columns (total 12 columns):\n",
      " #   Column       Non-Null Count  Dtype  \n",
      "---  ------       --------------  -----  \n",
      " 0   PassengerId  891 non-null    int64  \n",
      " 1   Survived     891 non-null    int64  \n",
      " 2   Pclass       891 non-null    int64  \n",
      " 3   Name         891 non-null    object \n",
      " 4   Sex          891 non-null    object \n",
      " 5   Age          714 non-null    float64\n",
      " 6   SibSp        891 non-null    int64  \n",
      " 7   Parch        891 non-null    int64  \n",
      " 8   Ticket       891 non-null    object \n",
      " 9   Fare         891 non-null    float64\n",
      " 10  Cabin        204 non-null    object \n",
      " 11  Embarked     889 non-null    object \n",
      "dtypes: float64(2), int64(5), object(5)\n",
      "memory usage: 83.7+ KB\n"
     ]
    }
   ],
   "source": [
    "train.info()"
   ]
  },
  {
   "cell_type": "code",
   "execution_count": 5,
   "metadata": {
    "scrolled": true
   },
   "outputs": [
    {
     "name": "stdout",
     "output_type": "stream",
     "text": [
      "<class 'pandas.core.frame.DataFrame'>\n",
      "RangeIndex: 418 entries, 0 to 417\n",
      "Data columns (total 11 columns):\n",
      " #   Column       Non-Null Count  Dtype  \n",
      "---  ------       --------------  -----  \n",
      " 0   PassengerId  418 non-null    int64  \n",
      " 1   Pclass       418 non-null    int64  \n",
      " 2   Name         418 non-null    object \n",
      " 3   Sex          418 non-null    object \n",
      " 4   Age          332 non-null    float64\n",
      " 5   SibSp        418 non-null    int64  \n",
      " 6   Parch        418 non-null    int64  \n",
      " 7   Ticket       418 non-null    object \n",
      " 8   Fare         417 non-null    float64\n",
      " 9   Cabin        91 non-null     object \n",
      " 10  Embarked     418 non-null    object \n",
      "dtypes: float64(2), int64(4), object(5)\n",
      "memory usage: 36.0+ KB\n"
     ]
    }
   ],
   "source": [
    "test.info()"
   ]
  },
  {
   "cell_type": "code",
   "execution_count": 6,
   "metadata": {},
   "outputs": [
    {
     "data": {
      "text/html": [
       "<div>\n",
       "<style scoped>\n",
       "    .dataframe tbody tr th:only-of-type {\n",
       "        vertical-align: middle;\n",
       "    }\n",
       "\n",
       "    .dataframe tbody tr th {\n",
       "        vertical-align: top;\n",
       "    }\n",
       "\n",
       "    .dataframe thead th {\n",
       "        text-align: right;\n",
       "    }\n",
       "</style>\n",
       "<table border=\"1\" class=\"dataframe\">\n",
       "  <thead>\n",
       "    <tr style=\"text-align: right;\">\n",
       "      <th></th>\n",
       "      <th>PassengerId</th>\n",
       "      <th>Survived</th>\n",
       "      <th>Pclass</th>\n",
       "      <th>Name</th>\n",
       "      <th>Sex</th>\n",
       "      <th>Age</th>\n",
       "      <th>SibSp</th>\n",
       "      <th>Parch</th>\n",
       "      <th>Ticket</th>\n",
       "      <th>Fare</th>\n",
       "      <th>Cabin</th>\n",
       "      <th>Embarked</th>\n",
       "    </tr>\n",
       "  </thead>\n",
       "  <tbody>\n",
       "    <tr>\n",
       "      <th>0</th>\n",
       "      <td>1</td>\n",
       "      <td>0</td>\n",
       "      <td>3</td>\n",
       "      <td>Braund, Mr. Owen Harris</td>\n",
       "      <td>male</td>\n",
       "      <td>22.0</td>\n",
       "      <td>1</td>\n",
       "      <td>0</td>\n",
       "      <td>A/5 21171</td>\n",
       "      <td>7.2500</td>\n",
       "      <td>NaN</td>\n",
       "      <td>S</td>\n",
       "    </tr>\n",
       "    <tr>\n",
       "      <th>1</th>\n",
       "      <td>2</td>\n",
       "      <td>1</td>\n",
       "      <td>1</td>\n",
       "      <td>Cumings, Mrs. John Bradley (Florence Briggs Th...</td>\n",
       "      <td>female</td>\n",
       "      <td>38.0</td>\n",
       "      <td>1</td>\n",
       "      <td>0</td>\n",
       "      <td>PC 17599</td>\n",
       "      <td>71.2833</td>\n",
       "      <td>C85</td>\n",
       "      <td>C</td>\n",
       "    </tr>\n",
       "    <tr>\n",
       "      <th>2</th>\n",
       "      <td>3</td>\n",
       "      <td>1</td>\n",
       "      <td>3</td>\n",
       "      <td>Heikkinen, Miss. Laina</td>\n",
       "      <td>female</td>\n",
       "      <td>26.0</td>\n",
       "      <td>0</td>\n",
       "      <td>0</td>\n",
       "      <td>STON/O2. 3101282</td>\n",
       "      <td>7.9250</td>\n",
       "      <td>NaN</td>\n",
       "      <td>S</td>\n",
       "    </tr>\n",
       "    <tr>\n",
       "      <th>3</th>\n",
       "      <td>4</td>\n",
       "      <td>1</td>\n",
       "      <td>1</td>\n",
       "      <td>Futrelle, Mrs. Jacques Heath (Lily May Peel)</td>\n",
       "      <td>female</td>\n",
       "      <td>35.0</td>\n",
       "      <td>1</td>\n",
       "      <td>0</td>\n",
       "      <td>113803</td>\n",
       "      <td>53.1000</td>\n",
       "      <td>C123</td>\n",
       "      <td>S</td>\n",
       "    </tr>\n",
       "    <tr>\n",
       "      <th>4</th>\n",
       "      <td>5</td>\n",
       "      <td>0</td>\n",
       "      <td>3</td>\n",
       "      <td>Allen, Mr. William Henry</td>\n",
       "      <td>male</td>\n",
       "      <td>35.0</td>\n",
       "      <td>0</td>\n",
       "      <td>0</td>\n",
       "      <td>373450</td>\n",
       "      <td>8.0500</td>\n",
       "      <td>NaN</td>\n",
       "      <td>S</td>\n",
       "    </tr>\n",
       "  </tbody>\n",
       "</table>\n",
       "</div>"
      ],
      "text/plain": [
       "   PassengerId  Survived  Pclass  \\\n",
       "0            1         0       3   \n",
       "1            2         1       1   \n",
       "2            3         1       3   \n",
       "3            4         1       1   \n",
       "4            5         0       3   \n",
       "\n",
       "                                                Name     Sex   Age  SibSp  \\\n",
       "0                            Braund, Mr. Owen Harris    male  22.0      1   \n",
       "1  Cumings, Mrs. John Bradley (Florence Briggs Th...  female  38.0      1   \n",
       "2                             Heikkinen, Miss. Laina  female  26.0      0   \n",
       "3       Futrelle, Mrs. Jacques Heath (Lily May Peel)  female  35.0      1   \n",
       "4                           Allen, Mr. William Henry    male  35.0      0   \n",
       "\n",
       "   Parch            Ticket     Fare Cabin Embarked  \n",
       "0      0         A/5 21171   7.2500   NaN        S  \n",
       "1      0          PC 17599  71.2833   C85        C  \n",
       "2      0  STON/O2. 3101282   7.9250   NaN        S  \n",
       "3      0            113803  53.1000  C123        S  \n",
       "4      0            373450   8.0500   NaN        S  "
      ]
     },
     "execution_count": 6,
     "metadata": {},
     "output_type": "execute_result"
    }
   ],
   "source": [
    "train.head(5)"
   ]
  },
  {
   "cell_type": "markdown",
   "metadata": {},
   "source": [
    "- PassengerID 와 Ticket은 분석에 큰 영향을 주지 않을 것이라 판단하여 제거할 것임\n",
    "- Cabin 은 Null Data가 너무 많아서 제거할 것임"
   ]
  },
  {
   "cell_type": "markdown",
   "metadata": {},
   "source": [
    "# 1. Target label Check"
   ]
  },
  {
   "cell_type": "code",
   "execution_count": 7,
   "metadata": {},
   "outputs": [
    {
     "data": {
      "image/png": "[encoded data removed]",
      "text/plain": [
       "<Figure size 576x576 with 1 Axes>"
      ]
     },
     "metadata": {
      "needs_background": "light"
     },
     "output_type": "display_data"
    }
   ],
   "source": [
    "plt.figure(figsize=(8,8))\n",
    "sns.countplot('Survived', data=train)\n",
    "plt.xlabel(\"Survived\")\n",
    "plt.ylabel('count')\n",
    "plt.title('Count Plot - Survived', fontsize=20)\n",
    "plt.show()"
   ]
  },
  {
   "cell_type": "markdown",
   "metadata": {},
   "source": [
    "# 2. EDA and Feature Engineering"
   ]
  },
  {
   "cell_type": "markdown",
   "metadata": {},
   "source": [
    "## 2-1. Pclass"
   ]
  },
  {
   "cell_type": "code",
   "execution_count": 8,
   "metadata": {},
   "outputs": [
    {
     "data": {
      "text/html": [
       "<div>\n",
       "<style scoped>\n",
       "    .dataframe tbody tr th:only-of-type {\n",
       "        vertical-align: middle;\n",
       "    }\n",
       "\n",
       "    .dataframe tbody tr th {\n",
       "        vertical-align: top;\n",
       "    }\n",
       "\n",
       "    .dataframe thead th {\n",
       "        text-align: right;\n",
       "    }\n",
       "</style>\n",
       "<table border=\"1\" class=\"dataframe\">\n",
       "  <thead>\n",
       "    <tr style=\"text-align: right;\">\n",
       "      <th></th>\n",
       "      <th>Survived</th>\n",
       "    </tr>\n",
       "    <tr>\n",
       "      <th>Pclass</th>\n",
       "      <th></th>\n",
       "    </tr>\n",
       "  </thead>\n",
       "  <tbody>\n",
       "    <tr>\n",
       "      <th>1</th>\n",
       "      <td>216</td>\n",
       "    </tr>\n",
       "    <tr>\n",
       "      <th>2</th>\n",
       "      <td>184</td>\n",
       "    </tr>\n",
       "    <tr>\n",
       "      <th>3</th>\n",
       "      <td>491</td>\n",
       "    </tr>\n",
       "  </tbody>\n",
       "</table>\n",
       "</div>"
      ],
      "text/plain": [
       "        Survived\n",
       "Pclass          \n",
       "1            216\n",
       "2            184\n",
       "3            491"
      ]
     },
     "execution_count": 8,
     "metadata": {},
     "output_type": "execute_result"
    }
   ],
   "source": [
    "train[['Pclass','Survived']].groupby(['Pclass'], as_index=True).count()"
   ]
  },
  {
   "cell_type": "code",
   "execution_count": 9,
   "metadata": {},
   "outputs": [
    {
     "data": {
      "image/png": "[encoded data removed]",
      "text/plain": [
       "<Figure size 1080x720 with 2 Axes>"
      ]
     },
     "metadata": {
      "needs_background": "light"
     },
     "output_type": "display_data"
    }
   ],
   "source": [
    "f, ax = plt.subplots(1,2,figsize=(15,10))\n",
    "train[['Pclass','Survived']].groupby(['Pclass'], as_index=True).mean().sort_values(by='Survived', ascending=False).plot.bar(ax=ax[0])\n",
    "train['Pclass'].value_counts().plot.bar(ax=ax[1], color='orange')\n",
    "ax[0].set_title(\"Survived portion by Pclass\", fontsize=20)\n",
    "ax[1].set_title('Number of Passengers by Plcass', fontsize=20)\n",
    "plt.show()"
   ]
  },
  {
   "cell_type": "markdown",
   "metadata": {},
   "source": [
    "### Pclass별 탑승자 수는 3 < 1 < 2 순이며\n",
    "### Pclass가 낮아짐에 따라 생존율이 낮아지는 것을 확인할 수 있음"
   ]
  },
  {
   "cell_type": "markdown",
   "metadata": {},
   "source": [
    "## 2-2. Sex"
   ]
  },
  {
   "cell_type": "code",
   "execution_count": 10,
   "metadata": {},
   "outputs": [
    {
     "data": {
      "image/png": "[encoded data removed]",
      "text/plain": [
       "<Figure size 1080x720 with 2 Axes>"
      ]
     },
     "metadata": {
      "needs_background": "light"
     },
     "output_type": "display_data"
    }
   ],
   "source": [
    "f, ax = plt.subplots(1,2, figsize=(15,10))\n",
    "train[['Sex', 'Survived']].groupby(['Sex'], as_index=True).mean().plot.bar(ax=ax[0])\n",
    "sns.countplot('Sex', hue='Survived', data=train, ax=ax[1])\n",
    "\n",
    "ax[0].set_title('Survived portion by Sex', fontsize=20)\n",
    "ax[1].set_title('Survived portion by Sex, F/M', fontsize=20)\n",
    "plt.show()"
   ]
  },
  {
   "cell_type": "code",
   "execution_count": 11,
   "metadata": {},
   "outputs": [
    {
     "data": {
      "text/html": [
       "<div>\n",
       "<style scoped>\n",
       "    .dataframe tbody tr th:only-of-type {\n",
       "        vertical-align: middle;\n",
       "    }\n",
       "\n",
       "    .dataframe tbody tr th {\n",
       "        vertical-align: top;\n",
       "    }\n",
       "\n",
       "    .dataframe thead th {\n",
       "        text-align: right;\n",
       "    }\n",
       "</style>\n",
       "<table border=\"1\" class=\"dataframe\">\n",
       "  <thead>\n",
       "    <tr style=\"text-align: right;\">\n",
       "      <th></th>\n",
       "      <th>Survived</th>\n",
       "    </tr>\n",
       "    <tr>\n",
       "      <th>Sex</th>\n",
       "      <th></th>\n",
       "    </tr>\n",
       "  </thead>\n",
       "  <tbody>\n",
       "    <tr>\n",
       "      <th>female</th>\n",
       "      <td>0.742038</td>\n",
       "    </tr>\n",
       "    <tr>\n",
       "      <th>male</th>\n",
       "      <td>0.188908</td>\n",
       "    </tr>\n",
       "  </tbody>\n",
       "</table>\n",
       "</div>"
      ],
      "text/plain": [
       "        Survived\n",
       "Sex             \n",
       "female  0.742038\n",
       "male    0.188908"
      ]
     },
     "execution_count": 11,
     "metadata": {},
     "output_type": "execute_result"
    }
   ],
   "source": [
    "train[['Sex','Survived']].groupby(['Sex'], as_index=True).mean().sort_values(by='Survived', ascending=False)"
   ]
  },
  {
   "cell_type": "code",
   "execution_count": 12,
   "metadata": {},
   "outputs": [
    {
     "data": {
      "text/plain": [
       "Text(0.5, 1, 'Both Sex and Pclass')"
      ]
     },
     "execution_count": 12,
     "metadata": {},
     "output_type": "execute_result"
    },
    {
     "data": {
      "image/png": "[encoded data removed]",
      "text/plain": [
       "<Figure size 718.5x432 with 1 Axes>"
      ]
     },
     "metadata": {
      "needs_background": "light"
     },
     "output_type": "display_data"
    }
   ],
   "source": [
    "sns.factorplot('Pclass', 'Survived', hue='Sex', data=train, size=6, aspect=1.5)\n",
    "plt.title('Both Sex and Pclass', fontsize=20)"
   ]
  },
  {
   "cell_type": "markdown",
   "metadata": {},
   "source": [
    "###  여성의 생존율이 남성의 생존율보다 압도적으로 높은 것을 확인할 수 있음"
   ]
  },
  {
   "cell_type": "markdown",
   "metadata": {},
   "source": [
    "### 문자 데이터를 숫자 데이터로 변환"
   ]
  },
  {
   "cell_type": "code",
   "execution_count": 13,
   "metadata": {},
   "outputs": [],
   "source": [
    "train['Sex'] = train['Sex'].map({'female':0, 'male':1})\n",
    "test['Sex'] = test['Sex'].map({'female':0,'male':1})"
   ]
  },
  {
   "cell_type": "markdown",
   "metadata": {},
   "source": [
    "## 2-3. Age"
   ]
  },
  {
   "cell_type": "code",
   "execution_count": 14,
   "metadata": {},
   "outputs": [
    {
     "name": "stdout",
     "output_type": "stream",
     "text": [
      "최고령 : 80.0세\n",
      "최연소 : 0.4세\n",
      "평균나이 : 29.7세\n"
     ]
    }
   ],
   "source": [
    "print('최고령 : {:.1f}세'.format(train['Age'].max()))\n",
    "print(\"최연소 : {:.1f}세\".format(train['Age'].min()))\n",
    "print('평균나이 : {:.1f}세'.format(train['Age'].mean()))"
   ]
  },
  {
   "cell_type": "code",
   "execution_count": 15,
   "metadata": {},
   "outputs": [
    {
     "data": {
      "image/png": "[encoded data removed]",
      "text/plain": [
       "<Figure size 720x360 with 1 Axes>"
      ]
     },
     "metadata": {
      "needs_background": "light"
     },
     "output_type": "display_data"
    }
   ],
   "source": [
    "plt.figure(figsize=(10,5))\n",
    "\n",
    "sns.kdeplot(train[train['Survived']==0]['Age'])\n",
    "sns.kdeplot(train[train['Survived']==1]['Age'])\n",
    "plt.legend(['Survived == 0', 'Survived == 1'])\n",
    "plt.title(\"Passenger's age by Survived\", fontsize=20)\n",
    "plt.show()"
   ]
  },
  {
   "cell_type": "code",
   "execution_count": 16,
   "metadata": {},
   "outputs": [
    {
     "data": {
      "image/png": "[encoded data removed]",
      "text/plain": [
       "<Figure size 720x360 with 1 Axes>"
      ]
     },
     "metadata": {
      "needs_background": "light"
     },
     "output_type": "display_data"
    }
   ],
   "source": [
    "plt.figure(figsize=(10,5))\n",
    "\n",
    "for i in range(len(train['Pclass'])):\n",
    "    sns.kdeplot(train[train['Pclass']==i]['Age'])\n",
    "\n",
    "plt.xlabel(\"Age\")\n",
    "plt.title('Age Distribution within Classes', fontsize=20)\n",
    "plt.legend(['Pclass_1','Pclass_2','Pclass_3'])\n",
    "plt.show()"
   ]
  },
  {
   "cell_type": "markdown",
   "metadata": {},
   "source": [
    "## 2-4. Name"
   ]
  },
  {
   "cell_type": "markdown",
   "metadata": {},
   "source": [
    "###  - 각각의 이름에는 남자와 여자 등을 뜻하는 Mr, Mrs 등이 있는데, 이 부분을 가공해서 어떤 데이터가 있는지 확인\n",
    "### - 성별과 비교하여 Mr, Mrs, Miss 데이터가 비슷한지 확인"
   ]
  },
  {
   "cell_type": "markdown",
   "metadata": {},
   "source": [
    "\n",
    "- 정규표현식을 사용해서 Initial 추출\n",
    "- Initial 별 평균나이를 이용해서 결측값 처리"
   ]
  },
  {
   "cell_type": "code",
   "execution_count": 17,
   "metadata": {},
   "outputs": [],
   "source": [
    "train['Initial'] = train.Name.str.extract('([A-Za-z]+)\\.')\n",
    "test['Initial'] = test.Name.str.extract('([A-Za-z]+)\\.')"
   ]
  },
  {
   "cell_type": "code",
   "execution_count": 18,
   "metadata": {
    "scrolled": true
   },
   "outputs": [
    {
     "data": {
      "text/html": [
       "<style  type=\"text/css\" >\n",
       "    #T_1ec4e734_a80c_11ea_8a89_0c9d927810ebrow0_col0 {\n",
       "            background-color:  #ffff66;\n",
       "            color:  #000000;\n",
       "        }    #T_1ec4e734_a80c_11ea_8a89_0c9d927810ebrow0_col1 {\n",
       "            background-color:  #ffff66;\n",
       "            color:  #000000;\n",
       "        }    #T_1ec4e734_a80c_11ea_8a89_0c9d927810ebrow0_col2 {\n",
       "            background-color:  #008066;\n",
       "            color:  #f1f1f1;\n",
       "        }    #T_1ec4e734_a80c_11ea_8a89_0c9d927810ebrow0_col3 {\n",
       "            background-color:  #ffff66;\n",
       "            color:  #000000;\n",
       "        }    #T_1ec4e734_a80c_11ea_8a89_0c9d927810ebrow0_col4 {\n",
       "            background-color:  #ffff66;\n",
       "            color:  #000000;\n",
       "        }    #T_1ec4e734_a80c_11ea_8a89_0c9d927810ebrow0_col5 {\n",
       "            background-color:  #ffff66;\n",
       "            color:  #000000;\n",
       "        }    #T_1ec4e734_a80c_11ea_8a89_0c9d927810ebrow0_col6 {\n",
       "            background-color:  #008066;\n",
       "            color:  #f1f1f1;\n",
       "        }    #T_1ec4e734_a80c_11ea_8a89_0c9d927810ebrow0_col7 {\n",
       "            background-color:  #ffff66;\n",
       "            color:  #000000;\n",
       "        }    #T_1ec4e734_a80c_11ea_8a89_0c9d927810ebrow0_col8 {\n",
       "            background-color:  #ffff66;\n",
       "            color:  #000000;\n",
       "        }    #T_1ec4e734_a80c_11ea_8a89_0c9d927810ebrow0_col9 {\n",
       "            background-color:  #008066;\n",
       "            color:  #f1f1f1;\n",
       "        }    #T_1ec4e734_a80c_11ea_8a89_0c9d927810ebrow0_col10 {\n",
       "            background-color:  #008066;\n",
       "            color:  #f1f1f1;\n",
       "        }    #T_1ec4e734_a80c_11ea_8a89_0c9d927810ebrow0_col11 {\n",
       "            background-color:  #008066;\n",
       "            color:  #f1f1f1;\n",
       "        }    #T_1ec4e734_a80c_11ea_8a89_0c9d927810ebrow0_col12 {\n",
       "            background-color:  #ffff66;\n",
       "            color:  #000000;\n",
       "        }    #T_1ec4e734_a80c_11ea_8a89_0c9d927810ebrow0_col13 {\n",
       "            background-color:  #008066;\n",
       "            color:  #f1f1f1;\n",
       "        }    #T_1ec4e734_a80c_11ea_8a89_0c9d927810ebrow0_col14 {\n",
       "            background-color:  #008066;\n",
       "            color:  #f1f1f1;\n",
       "        }    #T_1ec4e734_a80c_11ea_8a89_0c9d927810ebrow0_col15 {\n",
       "            background-color:  #ffff66;\n",
       "            color:  #000000;\n",
       "        }    #T_1ec4e734_a80c_11ea_8a89_0c9d927810ebrow0_col16 {\n",
       "            background-color:  #ffff66;\n",
       "            color:  #000000;\n",
       "        }    #T_1ec4e734_a80c_11ea_8a89_0c9d927810ebrow1_col0 {\n",
       "            background-color:  #008066;\n",
       "            color:  #f1f1f1;\n",
       "        }    #T_1ec4e734_a80c_11ea_8a89_0c9d927810ebrow1_col1 {\n",
       "            background-color:  #008066;\n",
       "            color:  #f1f1f1;\n",
       "        }    #T_1ec4e734_a80c_11ea_8a89_0c9d927810ebrow1_col2 {\n",
       "            background-color:  #ffff66;\n",
       "            color:  #000000;\n",
       "        }    #T_1ec4e734_a80c_11ea_8a89_0c9d927810ebrow1_col3 {\n",
       "            background-color:  #008066;\n",
       "            color:  #f1f1f1;\n",
       "        }    #T_1ec4e734_a80c_11ea_8a89_0c9d927810ebrow1_col4 {\n",
       "            background-color:  #008066;\n",
       "            color:  #f1f1f1;\n",
       "        }    #T_1ec4e734_a80c_11ea_8a89_0c9d927810ebrow1_col5 {\n",
       "            background-color:  #008066;\n",
       "            color:  #f1f1f1;\n",
       "        }    #T_1ec4e734_a80c_11ea_8a89_0c9d927810ebrow1_col6 {\n",
       "            background-color:  #ffff66;\n",
       "            color:  #000000;\n",
       "        }    #T_1ec4e734_a80c_11ea_8a89_0c9d927810ebrow1_col7 {\n",
       "            background-color:  #008066;\n",
       "            color:  #f1f1f1;\n",
       "        }    #T_1ec4e734_a80c_11ea_8a89_0c9d927810ebrow1_col8 {\n",
       "            background-color:  #008066;\n",
       "            color:  #f1f1f1;\n",
       "        }    #T_1ec4e734_a80c_11ea_8a89_0c9d927810ebrow1_col9 {\n",
       "            background-color:  #ffff66;\n",
       "            color:  #000000;\n",
       "        }    #T_1ec4e734_a80c_11ea_8a89_0c9d927810ebrow1_col10 {\n",
       "            background-color:  #ffff66;\n",
       "            color:  #000000;\n",
       "        }    #T_1ec4e734_a80c_11ea_8a89_0c9d927810ebrow1_col11 {\n",
       "            background-color:  #ffff66;\n",
       "            color:  #000000;\n",
       "        }    #T_1ec4e734_a80c_11ea_8a89_0c9d927810ebrow1_col12 {\n",
       "            background-color:  #008066;\n",
       "            color:  #f1f1f1;\n",
       "        }    #T_1ec4e734_a80c_11ea_8a89_0c9d927810ebrow1_col13 {\n",
       "            background-color:  #ffff66;\n",
       "            color:  #000000;\n",
       "        }    #T_1ec4e734_a80c_11ea_8a89_0c9d927810ebrow1_col14 {\n",
       "            background-color:  #ffff66;\n",
       "            color:  #000000;\n",
       "        }    #T_1ec4e734_a80c_11ea_8a89_0c9d927810ebrow1_col15 {\n",
       "            background-color:  #008066;\n",
       "            color:  #f1f1f1;\n",
       "        }    #T_1ec4e734_a80c_11ea_8a89_0c9d927810ebrow1_col16 {\n",
       "            background-color:  #008066;\n",
       "            color:  #f1f1f1;\n",
       "        }</style><table id=\"T_1ec4e734_a80c_11ea_8a89_0c9d927810eb\" ><thead>    <tr>        <th class=\"index_name level0\" >Initial</th>        <th class=\"col_heading level0 col0\" >Capt</th>        <th class=\"col_heading level0 col1\" >Col</th>        <th class=\"col_heading level0 col2\" >Countess</th>        <th class=\"col_heading level0 col3\" >Don</th>        <th class=\"col_heading level0 col4\" >Dr</th>        <th class=\"col_heading level0 col5\" >Jonkheer</th>        <th class=\"col_heading level0 col6\" >Lady</th>        <th class=\"col_heading level0 col7\" >Major</th>        <th class=\"col_heading level0 col8\" >Master</th>        <th class=\"col_heading level0 col9\" >Miss</th>        <th class=\"col_heading level0 col10\" >Mlle</th>        <th class=\"col_heading level0 col11\" >Mme</th>        <th class=\"col_heading level0 col12\" >Mr</th>        <th class=\"col_heading level0 col13\" >Mrs</th>        <th class=\"col_heading level0 col14\" >Ms</th>        <th class=\"col_heading level0 col15\" >Rev</th>        <th class=\"col_heading level0 col16\" >Sir</th>    </tr>    <tr>        <th class=\"index_name level0\" >Sex</th>        <th class=\"blank\" ></th>        <th class=\"blank\" ></th>        <th class=\"blank\" ></th>        <th class=\"blank\" ></th>        <th class=\"blank\" ></th>        <th class=\"blank\" ></th>        <th class=\"blank\" ></th>        <th class=\"blank\" ></th>        <th class=\"blank\" ></th>        <th class=\"blank\" ></th>        <th class=\"blank\" ></th>        <th class=\"blank\" ></th>        <th class=\"blank\" ></th>        <th class=\"blank\" ></th>        <th class=\"blank\" ></th>        <th class=\"blank\" ></th>        <th class=\"blank\" ></th>    </tr></thead><tbody>\n",
       "                <tr>\n",
       "                        <th id=\"T_1ec4e734_a80c_11ea_8a89_0c9d927810eblevel0_row0\" class=\"row_heading level0 row0\" >0</th>\n",
       "                        <td id=\"T_1ec4e734_a80c_11ea_8a89_0c9d927810ebrow0_col0\" class=\"data row0 col0\" >0</td>\n",
       "                        <td id=\"T_1ec4e734_a80c_11ea_8a89_0c9d927810ebrow0_col1\" class=\"data row0 col1\" >0</td>\n",
       "                        <td id=\"T_1ec4e734_a80c_11ea_8a89_0c9d927810ebrow0_col2\" class=\"data row0 col2\" >1</td>\n",
       "                        <td id=\"T_1ec4e734_a80c_11ea_8a89_0c9d927810ebrow0_col3\" class=\"data row0 col3\" >0</td>\n",
       "                        <td id=\"T_1ec4e734_a80c_11ea_8a89_0c9d927810ebrow0_col4\" class=\"data row0 col4\" >1</td>\n",
       "                        <td id=\"T_1ec4e734_a80c_11ea_8a89_0c9d927810ebrow0_col5\" class=\"data row0 col5\" >0</td>\n",
       "                        <td id=\"T_1ec4e734_a80c_11ea_8a89_0c9d927810ebrow0_col6\" class=\"data row0 col6\" >1</td>\n",
       "                        <td id=\"T_1ec4e734_a80c_11ea_8a89_0c9d927810ebrow0_col7\" class=\"data row0 col7\" >0</td>\n",
       "                        <td id=\"T_1ec4e734_a80c_11ea_8a89_0c9d927810ebrow0_col8\" class=\"data row0 col8\" >0</td>\n",
       "                        <td id=\"T_1ec4e734_a80c_11ea_8a89_0c9d927810ebrow0_col9\" class=\"data row0 col9\" >182</td>\n",
       "                        <td id=\"T_1ec4e734_a80c_11ea_8a89_0c9d927810ebrow0_col10\" class=\"data row0 col10\" >2</td>\n",
       "                        <td id=\"T_1ec4e734_a80c_11ea_8a89_0c9d927810ebrow0_col11\" class=\"data row0 col11\" >1</td>\n",
       "                        <td id=\"T_1ec4e734_a80c_11ea_8a89_0c9d927810ebrow0_col12\" class=\"data row0 col12\" >0</td>\n",
       "                        <td id=\"T_1ec4e734_a80c_11ea_8a89_0c9d927810ebrow0_col13\" class=\"data row0 col13\" >125</td>\n",
       "                        <td id=\"T_1ec4e734_a80c_11ea_8a89_0c9d927810ebrow0_col14\" class=\"data row0 col14\" >1</td>\n",
       "                        <td id=\"T_1ec4e734_a80c_11ea_8a89_0c9d927810ebrow0_col15\" class=\"data row0 col15\" >0</td>\n",
       "                        <td id=\"T_1ec4e734_a80c_11ea_8a89_0c9d927810ebrow0_col16\" class=\"data row0 col16\" >0</td>\n",
       "            </tr>\n",
       "            <tr>\n",
       "                        <th id=\"T_1ec4e734_a80c_11ea_8a89_0c9d927810eblevel0_row1\" class=\"row_heading level0 row1\" >1</th>\n",
       "                        <td id=\"T_1ec4e734_a80c_11ea_8a89_0c9d927810ebrow1_col0\" class=\"data row1 col0\" >1</td>\n",
       "                        <td id=\"T_1ec4e734_a80c_11ea_8a89_0c9d927810ebrow1_col1\" class=\"data row1 col1\" >2</td>\n",
       "                        <td id=\"T_1ec4e734_a80c_11ea_8a89_0c9d927810ebrow1_col2\" class=\"data row1 col2\" >0</td>\n",
       "                        <td id=\"T_1ec4e734_a80c_11ea_8a89_0c9d927810ebrow1_col3\" class=\"data row1 col3\" >1</td>\n",
       "                        <td id=\"T_1ec4e734_a80c_11ea_8a89_0c9d927810ebrow1_col4\" class=\"data row1 col4\" >6</td>\n",
       "                        <td id=\"T_1ec4e734_a80c_11ea_8a89_0c9d927810ebrow1_col5\" class=\"data row1 col5\" >1</td>\n",
       "                        <td id=\"T_1ec4e734_a80c_11ea_8a89_0c9d927810ebrow1_col6\" class=\"data row1 col6\" >0</td>\n",
       "                        <td id=\"T_1ec4e734_a80c_11ea_8a89_0c9d927810ebrow1_col7\" class=\"data row1 col7\" >2</td>\n",
       "                        <td id=\"T_1ec4e734_a80c_11ea_8a89_0c9d927810ebrow1_col8\" class=\"data row1 col8\" >40</td>\n",
       "                        <td id=\"T_1ec4e734_a80c_11ea_8a89_0c9d927810ebrow1_col9\" class=\"data row1 col9\" >0</td>\n",
       "                        <td id=\"T_1ec4e734_a80c_11ea_8a89_0c9d927810ebrow1_col10\" class=\"data row1 col10\" >0</td>\n",
       "                        <td id=\"T_1ec4e734_a80c_11ea_8a89_0c9d927810ebrow1_col11\" class=\"data row1 col11\" >0</td>\n",
       "                        <td id=\"T_1ec4e734_a80c_11ea_8a89_0c9d927810ebrow1_col12\" class=\"data row1 col12\" >517</td>\n",
       "                        <td id=\"T_1ec4e734_a80c_11ea_8a89_0c9d927810ebrow1_col13\" class=\"data row1 col13\" >0</td>\n",
       "                        <td id=\"T_1ec4e734_a80c_11ea_8a89_0c9d927810ebrow1_col14\" class=\"data row1 col14\" >0</td>\n",
       "                        <td id=\"T_1ec4e734_a80c_11ea_8a89_0c9d927810ebrow1_col15\" class=\"data row1 col15\" >6</td>\n",
       "                        <td id=\"T_1ec4e734_a80c_11ea_8a89_0c9d927810ebrow1_col16\" class=\"data row1 col16\" >1</td>\n",
       "            </tr>\n",
       "    </tbody></table>"
      ],
      "text/plain": [
       "<pandas.io.formats.style.Styler at 0x2218c601108>"
      ]
     },
     "execution_count": 18,
     "metadata": {},
     "output_type": "execute_result"
    }
   ],
   "source": [
    "pd.crosstab(train['Initial'], train['Sex']).T.style.background_gradient(cmap='summer_r')"
   ]
  },
  {
   "cell_type": "code",
   "execution_count": 19,
   "metadata": {},
   "outputs": [],
   "source": [
    "\n",
    "train['Initial'].replace(['Mlle','Mme','Ms','Dr','Major','Lady','Countess','Jonkheer','Col','Rev','Capt','Sir','Don', 'Dona'],\n",
    "                        ['Miss','Miss','Miss','Mr','Mr','Mrs','Mrs','Other','Other','Other','Mr','Mr','Mr', 'Mr'],inplace=True)\n",
    "\n",
    "test['Initial'].replace(['Mlle','Mme','Ms','Dr','Major','Lady','Countess','Jonkheer','Col','Rev','Capt','Sir','Don', 'Dona'],\n",
    "                        ['Miss','Miss','Miss','Mr','Mr','Mrs','Mrs','Other','Other','Other','Mr','Mr','Mr', 'Mr'],inplace=True)"
   ]
  },
  {
   "cell_type": "code",
   "execution_count": 20,
   "metadata": {},
   "outputs": [
    {
     "data": {
      "text/plain": [
       "<matplotlib.axes._subplots.AxesSubplot at 0x2218c5fae08>"
      ]
     },
     "execution_count": 20,
     "metadata": {},
     "output_type": "execute_result"
    },
    {
     "data": {
      "image/png": "[encoded data removed]",
      "text/plain": [
       "<Figure size 432x288 with 1 Axes>"
      ]
     },
     "metadata": {
      "needs_background": "light"
     },
     "output_type": "display_data"
    }
   ],
   "source": [
    "train.groupby('Initial')['Survived'].mean().plot.bar()"
   ]
  },
  {
   "cell_type": "code",
   "execution_count": 21,
   "metadata": {},
   "outputs": [
    {
     "data": {
      "text/html": [
       "<div>\n",
       "<style scoped>\n",
       "    .dataframe tbody tr th:only-of-type {\n",
       "        vertical-align: middle;\n",
       "    }\n",
       "\n",
       "    .dataframe tbody tr th {\n",
       "        vertical-align: top;\n",
       "    }\n",
       "\n",
       "    .dataframe thead th {\n",
       "        text-align: right;\n",
       "    }\n",
       "</style>\n",
       "<table border=\"1\" class=\"dataframe\">\n",
       "  <thead>\n",
       "    <tr style=\"text-align: right;\">\n",
       "      <th></th>\n",
       "      <th>PassengerId</th>\n",
       "      <th>Survived</th>\n",
       "      <th>Pclass</th>\n",
       "      <th>Sex</th>\n",
       "      <th>Age</th>\n",
       "      <th>SibSp</th>\n",
       "      <th>Parch</th>\n",
       "      <th>Fare</th>\n",
       "    </tr>\n",
       "    <tr>\n",
       "      <th>Initial</th>\n",
       "      <th></th>\n",
       "      <th></th>\n",
       "      <th></th>\n",
       "      <th></th>\n",
       "      <th></th>\n",
       "      <th></th>\n",
       "      <th></th>\n",
       "      <th></th>\n",
       "    </tr>\n",
       "  </thead>\n",
       "  <tbody>\n",
       "    <tr>\n",
       "      <th>Master</th>\n",
       "      <td>414.975000</td>\n",
       "      <td>0.575000</td>\n",
       "      <td>2.625000</td>\n",
       "      <td>1.00000</td>\n",
       "      <td>4.574167</td>\n",
       "      <td>2.300000</td>\n",
       "      <td>1.375000</td>\n",
       "      <td>34.703125</td>\n",
       "    </tr>\n",
       "    <tr>\n",
       "      <th>Miss</th>\n",
       "      <td>411.741935</td>\n",
       "      <td>0.704301</td>\n",
       "      <td>2.284946</td>\n",
       "      <td>0.00000</td>\n",
       "      <td>21.860000</td>\n",
       "      <td>0.698925</td>\n",
       "      <td>0.537634</td>\n",
       "      <td>43.937188</td>\n",
       "    </tr>\n",
       "    <tr>\n",
       "      <th>Mr</th>\n",
       "      <td>455.880907</td>\n",
       "      <td>0.162571</td>\n",
       "      <td>2.381853</td>\n",
       "      <td>0.99811</td>\n",
       "      <td>32.739609</td>\n",
       "      <td>0.293006</td>\n",
       "      <td>0.151229</td>\n",
       "      <td>24.939822</td>\n",
       "    </tr>\n",
       "    <tr>\n",
       "      <th>Mrs</th>\n",
       "      <td>456.393701</td>\n",
       "      <td>0.795276</td>\n",
       "      <td>1.984252</td>\n",
       "      <td>0.00000</td>\n",
       "      <td>35.981818</td>\n",
       "      <td>0.692913</td>\n",
       "      <td>0.818898</td>\n",
       "      <td>45.420603</td>\n",
       "    </tr>\n",
       "    <tr>\n",
       "      <th>Other</th>\n",
       "      <td>564.444444</td>\n",
       "      <td>0.111111</td>\n",
       "      <td>1.666667</td>\n",
       "      <td>1.00000</td>\n",
       "      <td>45.888889</td>\n",
       "      <td>0.111111</td>\n",
       "      <td>0.111111</td>\n",
       "      <td>19.102778</td>\n",
       "    </tr>\n",
       "  </tbody>\n",
       "</table>\n",
       "</div>"
      ],
      "text/plain": [
       "         PassengerId  Survived    Pclass      Sex        Age     SibSp  \\\n",
       "Initial                                                                  \n",
       "Master    414.975000  0.575000  2.625000  1.00000   4.574167  2.300000   \n",
       "Miss      411.741935  0.704301  2.284946  0.00000  21.860000  0.698925   \n",
       "Mr        455.880907  0.162571  2.381853  0.99811  32.739609  0.293006   \n",
       "Mrs       456.393701  0.795276  1.984252  0.00000  35.981818  0.692913   \n",
       "Other     564.444444  0.111111  1.666667  1.00000  45.888889  0.111111   \n",
       "\n",
       "            Parch       Fare  \n",
       "Initial                       \n",
       "Master   1.375000  34.703125  \n",
       "Miss     0.537634  43.937188  \n",
       "Mr       0.151229  24.939822  \n",
       "Mrs      0.818898  45.420603  \n",
       "Other    0.111111  19.102778  "
      ]
     },
     "execution_count": 21,
     "metadata": {},
     "output_type": "execute_result"
    }
   ],
   "source": [
    "train.groupby(['Initial']).mean()"
   ]
  },
  {
   "cell_type": "markdown",
   "metadata": {},
   "source": []
  },
  {
   "cell_type": "markdown",
   "metadata": {},
   "source": [
    "### Categorized한 Initial Columns의 평균나이로  Age의 Null값 처리"
   ]
  },
  {
   "cell_type": "code",
   "execution_count": 22,
   "metadata": {},
   "outputs": [],
   "source": [
    "train.loc[(train.Age.isnull())&(train.Initial=='Mr'), 'Age'] = 33\n",
    "train.loc[(train.Age.isnull())&(train.Initial=='Mrs'), 'Age'] = 36\n",
    "train.loc[(train.Age.isnull())&(train.Initial=='Master'), 'Age'] = 5\n",
    "train.loc[(train.Age.isnull())&(train.Initial=='Miss'), 'Age'] = 22\n",
    "train.loc[(train.Age.isnull())&(train.Initial=='Other'),'Age'] = 46\n",
    "\n",
    "test.loc[(test.Age.isnull())&(test.Initial=='Mr'),'Age'] = 33\n",
    "test.loc[(test.Age.isnull())&(test.Initial=='Mrs'),'Age'] = 36\n",
    "test.loc[(test.Age.isnull())&(test.Initial=='Master'),'Age'] = 5\n",
    "test.loc[(test.Age.isnull())&(test.Initial=='Miss'),'Age'] = 22\n",
    "test.loc[(test.Age.isnull())&(test.Initial=='Other'),'Age'] = 46"
   ]
  },
  {
   "cell_type": "markdown",
   "metadata": {},
   "source": [
    "### Age를 10세 기준으로 categorize"
   ]
  },
  {
   "cell_type": "code",
   "execution_count": 23,
   "metadata": {},
   "outputs": [],
   "source": [
    "def category_age(x):\n",
    "    if x<10:\n",
    "        return 0\n",
    "    elif x<20:\n",
    "        return 1\n",
    "    elif x<30:\n",
    "        return 2\n",
    "    elif x<40:\n",
    "        return 3\n",
    "    elif x<50:\n",
    "        return 4\n",
    "    elif x<60:\n",
    "        return 5\n",
    "    elif x<70:\n",
    "        return 6\n",
    "    else:\n",
    "        return 7\n",
    "    \n",
    "\n",
    "train['Age_cat'] = train['Age'].apply(category_age)\n",
    "test['Age_cat'] = test['Age'].apply(category_age)"
   ]
  },
  {
   "cell_type": "markdown",
   "metadata": {},
   "source": [
    "### 문자 데이터를 숫자 데이터로 변환"
   ]
  },
  {
   "cell_type": "code",
   "execution_count": 24,
   "metadata": {},
   "outputs": [],
   "source": [
    "train['Initial'] = train['Initial'].map({'Master': 0, 'Miss': 1, 'Mr': 2, 'Mrs': 3, 'Other': 4})\n",
    "test['Initial'] = test['Initial'].map({'Master': 0, 'Miss': 1, 'Mr': 2, 'Mrs': 3, 'Other': 4})"
   ]
  },
  {
   "cell_type": "markdown",
   "metadata": {},
   "source": [
    "## 2-4. Embarked"
   ]
  },
  {
   "cell_type": "code",
   "execution_count": 25,
   "metadata": {},
   "outputs": [
    {
     "name": "stdout",
     "output_type": "stream",
     "text": [
      "2 \n",
      " 0\n"
     ]
    }
   ],
   "source": [
    "print(train['Embarked'].isnull().sum(),'\\n',\n",
    "     test['Embarked'].isnull().sum())"
   ]
  },
  {
   "cell_type": "markdown",
   "metadata": {},
   "source": [
    "### Embarked의 경우 Null값이 두 개 밖에 없으므로 최빈값을 채워넣음"
   ]
  },
  {
   "cell_type": "code",
   "execution_count": 26,
   "metadata": {},
   "outputs": [],
   "source": [
    "train['Embarked'].fillna('S', inplace=True)"
   ]
  },
  {
   "cell_type": "code",
   "execution_count": 27,
   "metadata": {},
   "outputs": [
    {
     "data": {
      "text/plain": [
       "<matplotlib.axes._subplots.AxesSubplot at 0x2218c58cd88>"
      ]
     },
     "execution_count": 27,
     "metadata": {},
     "output_type": "execute_result"
    },
    {
     "data": {
      "text/plain": [
       "<Figure size 864x720 with 0 Axes>"
      ]
     },
     "metadata": {},
     "output_type": "display_data"
    },
    {
     "data": {
      "image/png": "[encoded data removed]",
      "text/plain": [
       "<Figure size 432x288 with 1 Axes>"
      ]
     },
     "metadata": {
      "needs_background": "light"
     },
     "output_type": "display_data"
    }
   ],
   "source": [
    "plt.figure(figsize=(12,10))\n",
    "train[['Embarked', 'Survived']].groupby(['Embarked'],as_index=True).mean().sort_values(by='Survived', ascending=False).plot.bar()"
   ]
  },
  {
   "cell_type": "markdown",
   "metadata": {},
   "source": [
    "#### C의 생존율이 가장 높은 것을 확인할 수 있음\n",
    "\n",
    "."
   ]
  },
  {
   "cell_type": "code",
   "execution_count": 28,
   "metadata": {},
   "outputs": [
    {
     "data": {
      "image/png": "[encoded data removed]",
      "text/plain": [
       "<Figure size 1440x1080 with 4 Axes>"
      ]
     },
     "metadata": {
      "needs_background": "light"
     },
     "output_type": "display_data"
    }
   ],
   "source": [
    "f, ax = plt.subplots(2,2,figsize=(20,15))\n",
    "hue_list = [['Age_cat','Sex'],\n",
    "           ['Survived','Pclass']]\n",
    "title = [['Embarked-Categorized Age', 'Embarked count-Sex'],\n",
    "        ['Embarked-Survived', 'Embarked-Pclass']]\n",
    "\n",
    "for i in range(2):\n",
    "    for j in range(2):\n",
    "        sns.countplot('Embarked', hue=hue_list[i][j],data=train, ax=ax[i,j])\n",
    "        ax[i,j].set_title(title[i][j], fontsize=20)\n",
    "plt.show()"
   ]
  },
  {
   "cell_type": "markdown",
   "metadata": {},
   "source": [
    "### [1,1] : S의 탑승객이 가장 많음\n",
    "### [1,2] : C, Q의 경우 남여 비율이 비슷하고 S는 남자의 비율이 높음\n",
    "### [2,1] : S의 생존확률이 현저히 낮음\n",
    "### [2,2] : Class로 구분해 본 결과 C의 생존확률이 높은 것은 Pclass가 평균적으로 높기 때문임\n",
    "\n",
    "."
   ]
  },
  {
   "cell_type": "markdown",
   "metadata": {},
   "source": [
    "\n",
    "\n",
    "### 문자 데이터를 숫자 데이터로 변환"
   ]
  },
  {
   "cell_type": "code",
   "execution_count": 29,
   "metadata": {},
   "outputs": [],
   "source": [
    "train['Embarked'] = train['Embarked'].map({'C':0, 'Q':1, 'S':2})\n",
    "test['Embarked'] = test['Embarked'].map({'C':0, 'Q':1, 'S':2})"
   ]
  },
  {
   "cell_type": "markdown",
   "metadata": {},
   "source": [
    "## 2-5. Family size\n",
    "### 본인 포함 배우자, 자녀, 형제자매 등의 수를 모두 더해 FamilySize로 통합"
   ]
  },
  {
   "cell_type": "code",
   "execution_count": 30,
   "metadata": {},
   "outputs": [],
   "source": [
    "train['FamilySize'] = train['SibSp'] + train['Parch'] + 1\n",
    "test['FamilySize'] = test['SibSp'] + test['Parch'] + 1"
   ]
  },
  {
   "cell_type": "code",
   "execution_count": 31,
   "metadata": {},
   "outputs": [
    {
     "name": "stdout",
     "output_type": "stream",
     "text": [
      "Max size of Family : 11.0 \n",
      " Min size of Family : 1.0\n"
     ]
    }
   ],
   "source": [
    "print('Max size of Family : {:.1f}'.format(train['FamilySize'].max()),'\\n',\n",
    "     'Min size of Family : {:.1f}'.format(train['FamilySize'].min()))"
   ]
  },
  {
   "cell_type": "code",
   "execution_count": 32,
   "metadata": {},
   "outputs": [
    {
     "data": {
      "text/plain": [
       "<Figure size 720x720 with 0 Axes>"
      ]
     },
     "metadata": {},
     "output_type": "display_data"
    },
    {
     "data": {
      "image/png": "[encoded data removed]",
      "text/plain": [
       "<Figure size 432x288 with 1 Axes>"
      ]
     },
     "metadata": {
      "needs_background": "light"
     },
     "output_type": "display_data"
    }
   ],
   "source": [
    "plt.figure(figsize=(10,10))\n",
    "train[['FamilySize','Survived']].groupby(['FamilySize'], as_index=True).mean().sort_values(by='Survived', ascending=False).plot.bar()\n",
    "plt.show()"
   ]
  },
  {
   "cell_type": "markdown",
   "metadata": {},
   "source": [
    "### FamilySize 4<3<2<7<1 순서로 가지만 크게 의미 없는 변수로 간주"
   ]
  },
  {
   "cell_type": "markdown",
   "metadata": {},
   "source": [
    "## 2-6. Fare"
   ]
  },
  {
   "cell_type": "code",
   "execution_count": 33,
   "metadata": {},
   "outputs": [
    {
     "data": {
      "image/png": "[encoded data removed]",
      "text/plain": [
       "<Figure size 720x720 with 1 Axes>"
      ]
     },
     "metadata": {
      "needs_background": "light"
     },
     "output_type": "display_data"
    }
   ],
   "source": [
    "plt.figure(figsize=(10,10))\n",
    "sns.distplot(train['Fare'], color='b',\n",
    "             label='Skewness : {:.2f}'.format(train['Fare'].skew()))\n",
    "plt.legend(loc='best')\n",
    "plt.show()"
   ]
  },
  {
   "cell_type": "markdown",
   "metadata": {},
   "source": [
    "### 첨도(Skewness)가 너무 크므로 로그를 취해줌"
   ]
  },
  {
   "cell_type": "code",
   "execution_count": 34,
   "metadata": {},
   "outputs": [
    {
     "name": "stdout",
     "output_type": "stream",
     "text": [
      "0 \n",
      " 1\n"
     ]
    }
   ],
   "source": [
    "print(train['Fare'].isnull().sum(), '\\n', \n",
    "      test['Fare'].isnull().sum())"
   ]
  },
  {
   "cell_type": "code",
   "execution_count": 35,
   "metadata": {},
   "outputs": [],
   "source": [
    "test.loc[test.Fare.isnull(), 'Fare'] = test['Fare'].mean()"
   ]
  },
  {
   "cell_type": "markdown",
   "metadata": {},
   "source": [
    "### Null Data는 평균값으로 대체"
   ]
  },
  {
   "cell_type": "code",
   "execution_count": 36,
   "metadata": {},
   "outputs": [
    {
     "data": {
      "image/png": "[encoded data removed]",
      "text/plain": [
       "<Figure size 720x720 with 1 Axes>"
      ]
     },
     "metadata": {
      "needs_background": "light"
     },
     "output_type": "display_data"
    }
   ],
   "source": [
    "train['Fare'] = train['Fare'].map(lambda i : np.log(i) if i > 0 else 0)\n",
    "test['Fare'] = test['Fare'].map(lambda i : np.log(i) if i > 0 else 0)\n",
    "\n",
    "plt.figure(figsize=(10,10))\n",
    "sns.distplot(train['Fare'], color='b',\n",
    "             label='Skewness : {:.2f}'.format(train['Fare'].skew()))\n",
    "plt.legend(loc='best')\n",
    "plt.show()"
   ]
  },
  {
   "cell_type": "markdown",
   "metadata": {},
   "source": [
    "# 3. Correlation Between The Features"
   ]
  },
  {
   "cell_type": "code",
   "execution_count": 37,
   "metadata": {},
   "outputs": [
    {
     "data": {
      "image/png": "[encoded data removed]",
      "text/plain": [
       "<Figure size 1008x864 with 2 Axes>"
      ]
     },
     "metadata": {
      "needs_background": "light"
     },
     "output_type": "display_data"
    }
   ],
   "source": [
    "heatmap_data = train[['Survived','Pclass','Sex','Fare','Embarked','FamilySize','Initial','Age_cat']]\n",
    "\n",
    "colormap = plt.cm.RdBu\n",
    "plt.figure(figsize=(14,12))\n",
    "plt.title('Correlation of Features', y=1.05, size=15)\n",
    "sns.heatmap(heatmap_data.astype(float).corr(), linewidth=0.1, vmax=1.0,\n",
    "            square=True, cmap=colormap, linecolor='white',annot=True, annot_kws={'size':16})\n",
    "\n",
    "del heatmap_data"
   ]
  },
  {
   "cell_type": "markdown",
   "metadata": {},
   "source": [
    "# 4. Drop Columns"
   ]
  },
  {
   "cell_type": "code",
   "execution_count": 38,
   "metadata": {},
   "outputs": [],
   "source": [
    "train.drop(['PassengerId', 'Name', 'SibSp', 'Parch', 'Ticket', 'Cabin'], axis=1, inplace=True)\n",
    "test.drop(['PassengerId', 'Name',  'SibSp', 'Parch', 'Ticket', 'Cabin'], axis=1, inplace=True)"
   ]
  },
  {
   "cell_type": "markdown",
   "metadata": {},
   "source": []
  },
  {
   "cell_type": "code",
   "execution_count": 39,
   "metadata": {},
   "outputs": [
    {
     "data": {
      "text/html": [
       "<div>\n",
       "<style scoped>\n",
       "    .dataframe tbody tr th:only-of-type {\n",
       "        vertical-align: middle;\n",
       "    }\n",
       "\n",
       "    .dataframe tbody tr th {\n",
       "        vertical-align: top;\n",
       "    }\n",
       "\n",
       "    .dataframe thead th {\n",
       "        text-align: right;\n",
       "    }\n",
       "</style>\n",
       "<table border=\"1\" class=\"dataframe\">\n",
       "  <thead>\n",
       "    <tr style=\"text-align: right;\">\n",
       "      <th></th>\n",
       "      <th>Survived</th>\n",
       "      <th>Pclass</th>\n",
       "      <th>Sex</th>\n",
       "      <th>Age</th>\n",
       "      <th>Fare</th>\n",
       "      <th>Embarked</th>\n",
       "      <th>Initial</th>\n",
       "      <th>Age_cat</th>\n",
       "      <th>FamilySize</th>\n",
       "    </tr>\n",
       "  </thead>\n",
       "  <tbody>\n",
       "    <tr>\n",
       "      <th>0</th>\n",
       "      <td>0</td>\n",
       "      <td>3</td>\n",
       "      <td>1</td>\n",
       "      <td>22.0</td>\n",
       "      <td>1.981001</td>\n",
       "      <td>2</td>\n",
       "      <td>2</td>\n",
       "      <td>2</td>\n",
       "      <td>2</td>\n",
       "    </tr>\n",
       "    <tr>\n",
       "      <th>1</th>\n",
       "      <td>1</td>\n",
       "      <td>1</td>\n",
       "      <td>0</td>\n",
       "      <td>38.0</td>\n",
       "      <td>4.266662</td>\n",
       "      <td>0</td>\n",
       "      <td>3</td>\n",
       "      <td>3</td>\n",
       "      <td>2</td>\n",
       "    </tr>\n",
       "    <tr>\n",
       "      <th>2</th>\n",
       "      <td>1</td>\n",
       "      <td>3</td>\n",
       "      <td>0</td>\n",
       "      <td>26.0</td>\n",
       "      <td>2.070022</td>\n",
       "      <td>2</td>\n",
       "      <td>1</td>\n",
       "      <td>2</td>\n",
       "      <td>1</td>\n",
       "    </tr>\n",
       "  </tbody>\n",
       "</table>\n",
       "</div>"
      ],
      "text/plain": [
       "   Survived  Pclass  Sex   Age      Fare  Embarked  Initial  Age_cat  \\\n",
       "0         0       3    1  22.0  1.981001         2        2        2   \n",
       "1         1       1    0  38.0  4.266662         0        3        3   \n",
       "2         1       3    0  26.0  2.070022         2        1        2   \n",
       "\n",
       "   FamilySize  \n",
       "0           2  \n",
       "1           2  \n",
       "2           1  "
      ]
     },
     "execution_count": 39,
     "metadata": {},
     "output_type": "execute_result"
    }
   ],
   "source": [
    "train.head(3)"
   ]
  },
  {
   "cell_type": "code",
   "execution_count": 40,
   "metadata": {},
   "outputs": [
    {
     "data": {
      "text/html": [
       "<div>\n",
       "<style scoped>\n",
       "    .dataframe tbody tr th:only-of-type {\n",
       "        vertical-align: middle;\n",
       "    }\n",
       "\n",
       "    .dataframe tbody tr th {\n",
       "        vertical-align: top;\n",
       "    }\n",
       "\n",
       "    .dataframe thead th {\n",
       "        text-align: right;\n",
       "    }\n",
       "</style>\n",
       "<table border=\"1\" class=\"dataframe\">\n",
       "  <thead>\n",
       "    <tr style=\"text-align: right;\">\n",
       "      <th></th>\n",
       "      <th>Pclass</th>\n",
       "      <th>Sex</th>\n",
       "      <th>Age</th>\n",
       "      <th>Fare</th>\n",
       "      <th>Embarked</th>\n",
       "      <th>Initial</th>\n",
       "      <th>Age_cat</th>\n",
       "      <th>FamilySize</th>\n",
       "    </tr>\n",
       "  </thead>\n",
       "  <tbody>\n",
       "    <tr>\n",
       "      <th>0</th>\n",
       "      <td>3</td>\n",
       "      <td>1</td>\n",
       "      <td>34.5</td>\n",
       "      <td>2.057860</td>\n",
       "      <td>1</td>\n",
       "      <td>2</td>\n",
       "      <td>3</td>\n",
       "      <td>1</td>\n",
       "    </tr>\n",
       "    <tr>\n",
       "      <th>1</th>\n",
       "      <td>3</td>\n",
       "      <td>0</td>\n",
       "      <td>47.0</td>\n",
       "      <td>1.945910</td>\n",
       "      <td>2</td>\n",
       "      <td>3</td>\n",
       "      <td>4</td>\n",
       "      <td>2</td>\n",
       "    </tr>\n",
       "    <tr>\n",
       "      <th>2</th>\n",
       "      <td>2</td>\n",
       "      <td>1</td>\n",
       "      <td>62.0</td>\n",
       "      <td>2.270836</td>\n",
       "      <td>1</td>\n",
       "      <td>2</td>\n",
       "      <td>6</td>\n",
       "      <td>1</td>\n",
       "    </tr>\n",
       "  </tbody>\n",
       "</table>\n",
       "</div>"
      ],
      "text/plain": [
       "   Pclass  Sex   Age      Fare  Embarked  Initial  Age_cat  FamilySize\n",
       "0       3    1  34.5  2.057860         1        2        3           1\n",
       "1       3    0  47.0  1.945910         2        3        4           2\n",
       "2       2    1  62.0  2.270836         1        2        6           1"
      ]
     },
     "execution_count": 40,
     "metadata": {},
     "output_type": "execute_result"
    }
   ],
   "source": [
    "test.head(3)"
   ]
  },
  {
   "cell_type": "markdown",
   "metadata": {},
   "source": [
    "# 5. Feature Selection\n",
    "### 5-1. EDA를 통해 얻은 정보를 바탕으로 주요 변수 추측 : Sex, Age, Pclass, Fare\n",
    "### 5-2. 위의 히트맵을 통해서 Survived와 상관관계가 높은 네 가지 변수 선택 : Pclass, Sex, Fare, Embarked\n",
    "### 5-3. Permutation Importance를 통해 주요 변수 추측\n",
    "\n",
    "* \n",
    "Permutation feature importance\n",
    "칼럼 데이터를 섞어서 연관성을 떨어뜨림(feature를 noise로 만드는 것임)\n",
    "이를 통해 얼마나 정확도에 영향을 미치는지 알 수 있음(교호작용도 포함)\n",
    "* \n",
    "주의사항 : 무작위로 섞다보면 매우 비현실적인 데이터나 분석결과가 생길 수 있음. 따라서 상관관계가 매우 높을 경우는 고려해봐야함\n",
    "* \n",
    "장점 : 재학습 시킬 필요가 없어서 학습 후에 적용하기 쉬우며 test set에 적용하므로 과적합 우려가 적음\n",
    "단, feature가 매우 많은 경우 적절히 선택해서 해야함(상관관계 정도에 따라)"
   ]
  },
  {
   "cell_type": "markdown",
   "metadata": {},
   "source": [
    "# 6. Model Fitting"
   ]
  },
  {
   "cell_type": "code",
   "execution_count": 143,
   "metadata": {},
   "outputs": [],
   "source": [
    "X_tr = train.drop(['Survived'], axis=1).values\n",
    "target_label = train['Survived'].values\n",
    "X_test = test.values"
   ]
  },
  {
   "cell_type": "code",
   "execution_count": 144,
   "metadata": {},
   "outputs": [],
   "source": [
    "train_X, X_vld, train_y, y_vld = train_test_split(X_tr, target_label, test_size=0.3, random_state=0)"
   ]
  },
  {
   "cell_type": "code",
   "execution_count": 171,
   "metadata": {},
   "outputs": [],
   "source": [
    "DT_model = DecisionTreeClassifier()\n",
    "KNN_model = KNeighborsClassifier()"
   ]
  },
  {
   "cell_type": "code",
   "execution_count": 146,
   "metadata": {},
   "outputs": [
    {
     "name": "stdout",
     "output_type": "stream",
     "text": [
      "Accuracy of the Decision Tree_AllFeatures : 0.7463\n"
     ]
    }
   ],
   "source": [
    "DT_model.fit(train_X, train_y)\n",
    "\n",
    "prediction_DT_1 = DT_model.predict(X_vld)\n",
    "print('Accuracy of the Decision Tree_AllFeatures : {:.4f}'.format(metrics.accuracy_score(prediction_DT_1, y_vld)))"
   ]
  },
  {
   "cell_type": "code",
   "execution_count": 177,
   "metadata": {},
   "outputs": [
    {
     "name": "stdout",
     "output_type": "stream",
     "text": [
      "교차 검증 0 정확도 : 0.7600\n",
      "교차 검증 1 정확도 : 0.7920\n",
      "교차 검증 2 정확도 : 0.7520\n",
      "교차 검증 3 정확도 : 0.7097\n",
      "교차 검증 4 정확도 : 0.7581\n",
      "DT_model 평균 정확도 : 0.7543\n"
     ]
    }
   ],
   "source": [
    "scores = cross_val_score(DT_model, train_X, train_y, cv=5)\n",
    "for iter_count, accuracy in enumerate(scores):\n",
    "    print(\"교차 검증 {0} 정확도 : {1:.4f}\".format(iter_count, accuracy))\n",
    "    \n",
    "print(\"DT_model 평균 정확도 : {0:.4f}\".format(np.mean(scores)))"
   ]
  },
  {
   "cell_type": "code",
   "execution_count": 147,
   "metadata": {
    "scrolled": true
   },
   "outputs": [
    {
     "name": "stdout",
     "output_type": "stream",
     "text": [
      "Accuracy of the KNN_AllFeatures : 0.7500\n"
     ]
    }
   ],
   "source": [
    "KNN_model.fit(train_X, train_y)\n",
    "\n",
    "prediction_KNN_1 = KNN_model.predict(X_vld)\n",
    "print('Accuracy of the KNN_AllFeatures : {:.4f}'.format(metrics.accuracy_score(prediction_KNN_1, y_vld)))"
   ]
  },
  {
   "cell_type": "code",
   "execution_count": 178,
   "metadata": {},
   "outputs": [
    {
     "name": "stdout",
     "output_type": "stream",
     "text": [
      "교차 검증 0 정확도 : 0.7120\n",
      "교차 검증 1 정확도 : 0.7920\n",
      "교차 검증 2 정확도 : 0.7600\n",
      "교차 검증 3 정확도 : 0.7258\n",
      "교차 검증 4 정확도 : 0.8306\n",
      "DT_model 평균 정확도 : 0.7641\n"
     ]
    }
   ],
   "source": [
    "scores = cross_val_score(KNN_model, train_X, train_y, cv=5)\n",
    "for iter_count, accuracy in enumerate(scores):\n",
    "    print(\"교차 검증 {0} 정확도 : {1:.4f}\".format(iter_count, accuracy))\n",
    "    \n",
    "print(\"DT_model 평균 정확도 : {0:.4f}\".format(np.mean(scores)))"
   ]
  },
  {
   "cell_type": "code",
   "execution_count": 166,
   "metadata": {},
   "outputs": [
    {
     "name": "stdout",
     "output_type": "stream",
     "text": [
      "Explained as: feature importances\n",
      "\n",
      "Feature importances, computed as a decrease in score when feature\n",
      "values are permuted (i.e. become noise). This is also known as \n",
      "permutation importance.\n",
      "\n",
      "If feature importances are computed on the same data as used for training, \n",
      "they don't reflect importance of features for generalization. Use a held-out\n",
      "dataset if you want generalization feature importances.\n",
      "\n",
      "0.1179 ± 0.0478  Initial\n",
      "0.1022 ± 0.0252  Sex\n",
      "0.0560 ± 0.0226  Pclass\n",
      "0.0179 ± 0.0256  Embarked\n",
      "0.0172 ± 0.0257  Fare\n",
      "0.0075 ± 0.0226  FamilySize\n",
      "-0.0067 ± 0.0056  Age_cat\n",
      "-0.0157 ± 0.0449  Age\n"
     ]
    }
   ],
   "source": [
    "perm = PermutationImportance(DT_model, random_state=1).fit(X_vld, y_vld)\n",
    "\n",
    "print(eli5.format_as_text(eli5.explain_weights(perm, feature_names = train.iloc[:,1:].columns.tolist())))"
   ]
  },
  {
   "cell_type": "code",
   "execution_count": 167,
   "metadata": {},
   "outputs": [
    {
     "name": "stdout",
     "output_type": "stream",
     "text": [
      "Explained as: feature importances\n",
      "\n",
      "Feature importances, computed as a decrease in score when feature\n",
      "values are permuted (i.e. become noise). This is also known as \n",
      "permutation importance.\n",
      "\n",
      "If feature importances are computed on the same data as used for training, \n",
      "they don't reflect importance of features for generalization. Use a held-out\n",
      "dataset if you want generalization feature importances.\n",
      "\n",
      "0.0799 ± 0.0434  Age\n",
      "0.0418 ± 0.0179  FamilySize\n",
      "0.0388 ± 0.0168  Sex\n",
      "0.0306 ± 0.0185  Fare\n",
      "0.0246 ± 0.0174  Pclass\n",
      "0.0209 ± 0.0168  Embarked\n",
      "0.0194 ± 0.0137  Initial\n",
      "0.0097 ± 0.0154  Age_cat\n"
     ]
    }
   ],
   "source": [
    "perm = PermutationImportance(KNN_model, random_state=1).fit(X_vld, y_vld)\n",
    "\n",
    "print(eli5.format_as_text(eli5.explain_weights(perm, feature_names = train.iloc[:,1:].columns.tolist())))"
   ]
  },
  {
   "cell_type": "markdown",
   "metadata": {},
   "source": [
    "### 5-3. Permutation Importance를 통해 주요 변수 추측\n",
    "> #### DecisionTree:    Initial, Sex, Pclass, Embarked\n",
    "\n",
    "> #### KNN:    Age, FamilySize,Sex, Fare\n"
   ]
  },
  {
   "cell_type": "markdown",
   "metadata": {},
   "source": [
    "## Sex, Age, Pclass, Fare   네 가지 변수 선택\n",
    "- 선택 이유 결론에서 설명\n"
   ]
  },
  {
   "cell_type": "markdown",
   "metadata": {},
   "source": [
    "# 7. Model Fitting After Feature Selection"
   ]
  },
  {
   "cell_type": "code",
   "execution_count": 170,
   "metadata": {},
   "outputs": [],
   "source": [
    "X_tr4 = train[['Pclass','Sex','Fare','Age']].values\n",
    "train_X4, X_vld4, train_y4, y_vld4 = train_test_split(X_tr4, target_label, test_size=0.3, random_state=0)"
   ]
  },
  {
   "cell_type": "code",
   "execution_count": 172,
   "metadata": {},
   "outputs": [
    {
     "name": "stdout",
     "output_type": "stream",
     "text": [
      "Accuracy of the Decision Tree_FourFeatures : 0.7799\n"
     ]
    }
   ],
   "source": [
    "DT_model.fit(train_X4, train_y4)\n",
    "\n",
    "prediction_DT_2 = DT_model.predict(X_vld4)\n",
    "print('Accuracy of the Decision Tree_FourFeatures : {:.4f}'.format(metrics.accuracy_score(prediction_DT_2, y_vld4)))"
   ]
  },
  {
   "cell_type": "code",
   "execution_count": 173,
   "metadata": {},
   "outputs": [
    {
     "name": "stdout",
     "output_type": "stream",
     "text": [
      "Accuracy of the KNN_AllFeatures : 0.7612\n"
     ]
    }
   ],
   "source": [
    "KNN_model.fit(train_X4, train_y4)\n",
    "\n",
    "prediction_KNN_2 = KNN_model.predict(X_vld4)\n",
    "print('Accuracy of the KNN_AllFeatures : {:.4f}'.format(metrics.accuracy_score(prediction_KNN_2, y_vld4)))"
   ]
  },
  {
   "cell_type": "code",
   "execution_count": 179,
   "metadata": {},
   "outputs": [
    {
     "name": "stdout",
     "output_type": "stream",
     "text": [
      "교차 검증 0 정확도 : 0.7360\n",
      "교차 검증 1 정확도 : 0.7840\n",
      "교차 검증 2 정확도 : 0.7520\n",
      "교차 검증 3 정확도 : 0.7419\n",
      "교차 검증 4 정확도 : 0.7581\n",
      "DT_model 평균 정확도 : 0.7544\n"
     ]
    }
   ],
   "source": [
    "scores = cross_val_score(DT_model, train_X4, train_y4, cv=5)\n",
    "for iter_count, accuracy in enumerate(scores):\n",
    "    print(\"교차 검증 {0} 정확도 : {1:.4f}\".format(iter_count, accuracy))\n",
    "    \n",
    "print(\"DT_model 평균 정확도 : {0:.4f}\".format(np.mean(scores)))"
   ]
  },
  {
   "cell_type": "code",
   "execution_count": 176,
   "metadata": {},
   "outputs": [
    {
     "name": "stdout",
     "output_type": "stream",
     "text": [
      "교차 검증 0 정확도 : 0.7360\n",
      "교차 검증 1 정확도 : 0.7920\n",
      "교차 검증 2 정확도 : 0.7760\n",
      "교차 검증 3 정확도 : 0.7339\n",
      "교차 검증 4 정확도 : 0.8065\n",
      "평균 정확도 : 0.7689\n"
     ]
    }
   ],
   "source": [
    "scores = cross_val_score(KNN_model, train_X4, train_y4, cv=5)\n",
    "for iter_count, accuracy in enumerate(scores):\n",
    "    print(\"교차 검증 {0} 정확도 : {1:.4f}\".format(iter_count, accuracy))\n",
    "    \n",
    "print(\"평균 정확도 : {0:.4f}\".format(np.mean(scores)))"
   ]
  },
  {
   "cell_type": "markdown",
   "metadata": {},
   "source": [
    "# 성능 비교\n",
    "\n",
    "## 1. All Features\n",
    "> ### DecisionTree Model's Mean Accuracy : 0.7543\n",
    "> ### KNN model's Accuracy : 0.7641\n",
    "\n",
    "## 2. Four Features\n",
    "> ### DecisionTree Model's Accuracy : 0.7662\n",
    "> ### KNN model's Accuracy : 0.7689"
   ]
  },
  {
   "cell_type": "markdown",
   "metadata": {},
   "source": [
    "# 결론\n",
    "### - 타이타닉 데이터에서 Decision Tree와 KNN model 을 비교했을 때 평균 정확도는 Feature 선택 여부에 관계없이 KNN이 앞선 결과를 보여줌\n",
    "### - EDA, CorrMatrix, Permutation Importance등을 통해서 중복적으로 나온 변수들을 선택한 후, Sex-Initial처럼 변수간 영향이 있을 것으로 판단되는 것들은(Pclass-Embarked, Fare-FamilySize 등) 중요도가 더 크다고 판단한 것을 선택했음"
   ]
  }
 ],
 "metadata": {
  "kernelspec": {
   "display_name": "Python 3",
   "language": "python",
   "name": "python3"
  },
  "language_info": {
   "codemirror_mode": {
    "name": "ipython",
    "version": 3
   },
   "file_extension": ".py",
   "mimetype": "text/x-python",
   "name": "python",
   "nbconvert_exporter": "python",
   "pygments_lexer": "ipython3",
   "version": "3.7.3"
  }
 },
 "nbformat": 4,
 "nbformat_minor": 4
}
